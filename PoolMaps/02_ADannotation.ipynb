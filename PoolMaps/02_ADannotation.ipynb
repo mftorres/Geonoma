{
 "cells": [
  {
   "cell_type": "code",
   "execution_count": 221,
   "id": "7e3beea5",
   "metadata": {},
   "outputs": [],
   "source": [
    "import os\n",
    "import sys\n",
    "import re\n",
    "import time"
   ]
  },
  {
   "cell_type": "code",
   "execution_count": 225,
   "id": "1ef247d0",
   "metadata": {},
   "outputs": [
    {
     "data": {
      "text/plain": [
       "'\\n  40536\\n 640537 0\\n 880201 01\\n   8520 012\\n    969 02\\n 130984 1\\n  19429 12\\n   6560 2\\n'"
      ]
     },
     "execution_count": 225,
     "metadata": {},
     "output_type": "execute_result"
    }
   ],
   "source": [
    "def ADannotate(x):\n",
    "    \"\"\"\n",
    "    checks the genotype and annotates AD for each genotype depending on the allele\n",
    "    returns a string with the format column, including genotype and the AD annotation in the end\n",
    "    takes a single format line (one sample at a time, apply this to each sample separatedly)    \n",
    "    freebayes annotates FORMAT with ref and alternate counts but not AD (ref,alternate if genotype != 0/0)\n",
    "    when genotype 0/1 or 0/1/2 freebayes does not include ref. count (we need to add it)\n",
    "    \n",
    "    the annotation must include the same number of digits as alleles (ref and alternate) for poolfstat to read the vcf\n",
    "    e.g. even if 0/0/0/0 then AD must be :4,0 (assuming RO=4, then the alternate is 0)\n",
    "    \"\"\"\n",
    "    newgenotype = ''\n",
    "    string = x.replace('\\n','')\n",
    "    if str(string) != '.':\n",
    "        genotype = string.split(':')[0]\n",
    "        RO = string.split(':')[2]\n",
    "        AO = string.split(':')[4] # alternate allele observations\n",
    "        allelesnum = len(set(re.findall(r'\\d+', genotype)))\n",
    "        allelesset = set(re.findall(r'\\d+', genotype))\n",
    "        \n",
    "        # if genotype contains ref\n",
    "        # in theory, AD takes 0 if the allele is not observed since no informative reads would be supporting it\n",
    "        # (as is not observed in the first place)\n",
    "        if '0' in allelesset:\n",
    "            if allelesnum == 1: # only ref\n",
    "                newgenotype = '%s:%s,0'%(string,RO)\n",
    "            if allelesnum >= 2:\n",
    "                newgenotype = '%s:%s,%s'%(string,RO,AO)\n",
    "        else:\n",
    "            newgenotype = '%s:0,%s'%(string,AO)\n",
    "    else:\n",
    "        newgenotype = '.'\n",
    "    return newgenotype\n",
    "    \n",
    "\n",
    "\"\"\"\n",
    "  40536\n",
    " 640537 0\n",
    " 880201 01\n",
    "   8520 012\n",
    "    969 02\n",
    " 130984 1\n",
    "  19429 12\n",
    "   6560 2\n",
    "\"\"\"\n",
    "\n",
    "\n",
    "# for gen in genotypes:\n",
    "#     print(gen)\n",
    "#     ADannotate(gen)"
   ]
  },
  {
   "cell_type": "code",
   "execution_count": 227,
   "id": "63409d4d",
   "metadata": {},
   "outputs": [
    {
     "name": "stdout",
     "output_type": "stream",
     "text": [
      "0/0/0/0/0/0/0/0/0/0/0/0/0/0/0/0/0/0/0/0/0/0/0/0/0/0/0/0/0/0/0/0/0/0/0/1/1/1/1/1/1/1/1/1/1/1/1/1/1/1/1/1/1/1/1/2/2/2/2/2/2/2/2/2/2/2/2/2/2/2/2/2/2/2/2/2/2/2/2/2/2/2/2/2/2/2/2/2/2/2/2/2:98:27:960:15,28:549,980:27,15,28\n",
      ".\n",
      "0/0/1/1/1/1/1/1/1/1/1/1/1/1/1/1/1/1/1/2/2/2/2/2/2/2/2/2/2/2/2/2/2/2/2/2/2/2/2/2/2/2/2/2/2/2/2/2/2/2/2/2/2/2/2/2/2/2/2/2/2/2/2/2/2/2/2/2/2/2/2/2/2/2/2/2/2/2/2/2/2/2/2/2/2/2/2/2/2/2/2/2/2/2/2/2/2/2/2/2:73:1:34:9,42:309,1371:1,9,42\n",
      "0/1/1/1/1/1/1/1/1/1/1/1/1/1/1/1/1/1/2/2/2/2/2/2/2/2/2/2/2/2/2/2/2/2/2/2/2/2/2/2/2/2/2/2/2/2/2/2/2/2/2/2/2/2/2/2/2/2/2/2/2/2/2/2/2/2/2/2/2/2/2/2/2/2/2/2/2/2/2/2/2/2/2/2/2/2/2/2/2/2/2/2:98:1:37:13,58:469,2043:1,13,58\n"
     ]
    }
   ],
   "source": [
    "test2='NODE_109597_length_1463_cov_23.290483\t1405\t.\tTTTGC\tTTTAT,TTTAC\t3678.44\t.\tAB=0.137546,0.475836;ABP=309.963,4.37453;AC=54,192;AF=0.190141,0.676056;AN=284;AO=37,128;CIGAR=3M2X,3M1X1M;DP=269;DPB=269;DPRA=0,0;EPP=4.47751,8.50684;EPPR=3.08518;GTI=1;LEN=2,1;MEANALT=5.66667,5.66667;MQM=37.4865,44.5156;MQMR=46.5862;NS=3;NUMALT=2;ODDS=5.55112e-17;PAIRED=0.702703,0.625;PAIREDR=0.551724;PAO=0,0;PQA=0,0;PQR=0;PRO=0;QA=1327,4394;QR=1031;RO=29;RPL=29,107;RPP=28.8919,128.481;RPPR=12.0706;RPR=8,21;RUN=1,1;SAF=10,40;SAP=19.9713,42.0968;SAR=27,88;SRF=13;SRP=3.68421;SRR=16;TYPE=mnp,snp;technology.illumina=1,1\tGT:DP:RO:QR:AO:QA\t0/0/0/0/0/0/0/0/0/0/0/0/0/0/0/0/0/0/0/0/0/0/0/0/0/0/0/0/0/0/0/0/0/0/0/1/1/1/1/1/1/1/1/1/1/1/1/1/1/1/1/1/1/1/1/2/2/2/2/2/2/2/2/2/2/2/2/2/2/2/2/2/2/2/2/2/2/2/2/2/2/2/2/2/2/2/2/2/2/2/2/2:98:27:960:15,28:549,980\t.\t0/0/1/1/1/1/1/1/1/1/1/1/1/1/1/1/1/1/1/2/2/2/2/2/2/2/2/2/2/2/2/2/2/2/2/2/2/2/2/2/2/2/2/2/2/2/2/2/2/2/2/2/2/2/2/2/2/2/2/2/2/2/2/2/2/2/2/2/2/2/2/2/2/2/2/2/2/2/2/2/2/2/2/2/2/2/2/2/2/2/2/2/2/2/2/2/2/2/2/2:73:1:34:9,42:309,1371\t0/1/1/1/1/1/1/1/1/1/1/1/1/1/1/1/1/1/2/2/2/2/2/2/2/2/2/2/2/2/2/2/2/2/2/2/2/2/2/2/2/2/2/2/2/2/2/2/2/2/2/2/2/2/2/2/2/2/2/2/2/2/2/2/2/2/2/2/2/2/2/2/2/2/2/2/2/2/2/2/2/2/2/2/2/2/2/2/2/2/2/2:98:1:37:13,58:469,2043'\n",
    "test2.split('\\t')\n",
    "\n",
    "test2gens=[]\n",
    "for index,col in enumerate(test2.split('\\t')[9:]):\n",
    "    test2gens.append(col)\n",
    "    \n",
    "# print(test2gens)\n",
    "\n",
    "for gen in test2gens:\n",
    "#     print(gen)\n",
    "    test1 = ADannotate(gen)\n",
    "    print(test1)"
   ]
  },
  {
   "cell_type": "code",
   "execution_count": 229,
   "id": "db69b197",
   "metadata": {},
   "outputs": [],
   "source": [
    "# create file from output argument\n",
    "# outpath = './testvcf_ADannot.vcf'\n",
    "outpath = './allpools_gmref_C1F001_wdup_DP10_fixup_woNAlternate_ADannot.vcf'\n",
    "\n",
    "if os.path.exists(outpath):\n",
    "    os.remove(outpath)\n",
    "\n",
    "output = open(outpath,'x+')\n",
    "\n",
    "# Number=A means there is integers, variable tuples (can be one or multiple delimited by comma)\n",
    "new_annotation = '##FORMAT=<ID=AD,Number=A,Type=Integer,Description=\"alternate allele depth\">'\n",
    "id_in_format = 'AD'\n",
    "\n",
    "# read input vcf\n",
    "for line in open('./allpools_gmref_C1F001_wdup_DP10_fixup_woNAlternate.vcf','r'):\n",
    "# for line in open('./allpools_gmref_C1F001_wdup_1bestallele_test1.vcf','r'):\n",
    "# for line in open('allpools_gmref_C1F001_wdup_1bestallele_filltag.vcf', 'r'):\n",
    "    if line.startswith('#') == True: # headers already present\n",
    "        if line.startswith('#CHROM') == False:\n",
    "            output.write('%s'%(line)) # print lines straight into the file and line already has linebreak\n",
    "#         print(line)\n",
    "        if line.startswith('#CHROM') == True:\n",
    "            output.write('%s\\n%s'%(new_annotation,line)) if new_annotation != str(line) else output.write('%s'%(line))\n",
    "#             print('%s\\n%s\\n'%(new_annotation,line)) if new_annotation != str(line) else print('%s\\n'%(line))\n",
    "    else:\n",
    "        newgens = []\n",
    "        # now dealing with the variants and their annotation\n",
    "        # get the format field of the line\n",
    "        oldformat = line.split('\\t')[8]\n",
    "        # add the new AD flag\n",
    "        newformat = '%s:AD'%(oldformat)\n",
    "        \n",
    "        # annotating genotypes ONE PER SAMPLE!!!! NOT JUST ONE PER LINE! gotta work in dataframe format (column)\n",
    "        # the number of standard columns in a VCF before the format section per sample is 9\n",
    "        genotypes = [col for col in line.split('\\t')[9:]]\n",
    "\n",
    "        # for annotating allele depth\n",
    "        newgenotypes = [ADannotate(gen) for gen in genotypes]\n",
    "        \n",
    "        # get the new line ready\n",
    "        sitecols = [col for col in line.split('\\t')[:8]]\n",
    "#         print('\\t'.join(sitecols)+'\\t'+newformat+'\\t'+'\\t'.join(newgenotypes))\n",
    "        output.write('\\t'.join(sitecols)+'\\t'+newformat+'\\t'+'\\t'.join(newgenotypes)+'\\n')\n",
    "\n",
    "output.close()"
   ]
  },
  {
   "cell_type": "code",
   "execution_count": null,
   "id": "af64f15d",
   "metadata": {},
   "outputs": [],
   "source": [
    "##INFO=<ID=AC,Number=A,Type=Integer,Description=\"Total number of alternate alleles in called genotypes\">\n",
    "\n",
    "##INFO=<ID=AN,Number=1,Type=Integer,Description=\"Total number of alleles in called genotypes\">\n",
    "\n",
    "##INFO=<ID=AF,Number=A,Type=Float,Description=\"Estimated allele frequency in the range (0,1]\">\n",
    "\n",
    "##INFO=<ID=RO,Number=1,Type=Integer,Description=\"Reference allele observation count, with partial observations recorded fractionally\">\n",
    "\n",
    "##INFO=<ID=AO,Number=A,Type=Integer,Description=\"Alternate allele observations, with partial observations recorded fractionally\">\n",
    "\n",
    "##INFO=<ID=PRO,Number=1,Type=Float,Description=\"Reference allele observation count, with partial observations recorded fractionally\">\n",
    "\n",
    "##INFO=<ID=PAO,Number=A,Type=Float,Description=\"Alternate allele observations, with partial observations recorded fractionally\">"
   ]
  }
 ],
 "metadata": {
  "kernelspec": {
   "display_name": "Python 3 (ipykernel)",
   "language": "python",
   "name": "python3"
  },
  "language_info": {
   "codemirror_mode": {
    "name": "ipython",
    "version": 3
   },
   "file_extension": ".py",
   "mimetype": "text/x-python",
   "name": "python",
   "nbconvert_exporter": "python",
   "pygments_lexer": "ipython3",
   "version": "3.8.16"
  }
 },
 "nbformat": 4,
 "nbformat_minor": 5
}
